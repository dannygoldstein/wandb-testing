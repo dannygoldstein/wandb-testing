{
  "nbformat": 4,
  "nbformat_minor": 0,
  "metadata": {
    "colab": {
      "name": "Spacenet.ipynb",
      "provenance": [],
      "collapsed_sections": []
    },
    "kernelspec": {
      "name": "python3",
      "display_name": "Python 3"
    },
    "accelerator": "GPU"
  },
  "cells": [
    {
      "cell_type": "markdown",
      "metadata": {
        "id": "3O0fDy0GgHSM"
      },
      "source": [
        "## Install Python Packages"
      ]
    },
    {
      "cell_type": "code",
      "metadata": {
        "id": "2bjNdXl4h31W"
      },
      "source": [
        "# install dependencies: \n",
        "!pip install pyyaml==5.1\n",
        "import torch, torchvision\n",
        "print(torch.__version__, torch.cuda.is_available())\n",
        "!gcc --version\n",
        "# opencv is pre-installed on colab"
      ],
      "execution_count": null,
      "outputs": []
    },
    {
      "cell_type": "code",
      "metadata": {
        "id": "GLbQZPRuifh2"
      },
      "source": [
        "# install detectron2: (Colab has CUDA 10.1 + torch 1.7)\n",
        "# See https://detectron2.readthedocs.io/tutorials/install.html for instructions\n",
        "import torch\n",
        "assert torch.__version__.startswith(\"1.7\")\n",
        "!pip install detectron2 -f https://dl.fbaipublicfiles.com/detectron2/wheels/cu101/torch1.7/index.html\n",
        "# exit(0)  # After installation, you need to \"restart runtime\" in Colab. This line can also restart runtime"
      ],
      "execution_count": null,
      "outputs": []
    },
    {
      "cell_type": "markdown",
      "metadata": {
        "id": "cNw9bx23ikfZ"
      },
      "source": [
        "## Import Python Packages"
      ]
    },
    {
      "cell_type": "code",
      "metadata": {
        "id": "9GIIdgsiimzS"
      },
      "source": [
        "import detectron2\n",
        "from detectron2.utils.logger import setup_logger\n",
        "from detectron2 import model_zoo\n",
        "from detectron2.engine import DefaultPredictor\n",
        "from detectron2.config import get_cfg\n",
        "from detectron2.utils.visualizer import Visualizer\n",
        "from detectron2.data import MetadataCatalog, DatasetCatalog\n",
        "from detectron2.data.datasets import register_coco_instances\n",
        "from detectron2.utils.visualizer import Visualizer\n",
        "from detectron2.engine import DefaultTrainer\n",
        "from detectron2.config import get_cfg\n",
        "from detectron2.utils.visualizer import ColorMode\n",
        "from detectron2.evaluation import COCOEvaluator, inference_on_dataset\n",
        "from detectron2.data import build_detection_test_loader\n",
        "from google.colab.patches import cv2_imshow\n",
        "import random, cv2, os"
      ],
      "execution_count": null,
      "outputs": []
    },
    {
      "cell_type": "markdown",
      "metadata": {
        "id": "H4zE4rFSitGP"
      },
      "source": [
        "## Define Data Directories"
      ]
    },
    {
      "cell_type": "code",
      "metadata": {
        "id": "FVuIMxZoivVt"
      },
      "source": [
        "from google.colab import drive\n",
        "drive.mount('/content/drive')"
      ],
      "execution_count": null,
      "outputs": []
    },
    {
      "cell_type": "code",
      "metadata": {
        "id": "YAv64BxAi83K"
      },
      "source": [
        "%cd drive/My Drive/data/\n",
        "%ls"
      ],
      "execution_count": null,
      "outputs": []
    },
    {
      "cell_type": "code",
      "metadata": {
        "id": "P53M0CeSjBsp"
      },
      "source": [
        "# Data Directories\n",
        "traindir = 'spacenet/'"
      ],
      "execution_count": null,
      "outputs": []
    },
    {
      "cell_type": "markdown",
      "metadata": {
        "id": "15kedfHBjZld"
      },
      "source": [
        "## Register Datasets"
      ]
    },
    {
      "cell_type": "code",
      "metadata": {
        "id": "uX3n8V5ajRTu"
      },
      "source": [
        "# Register train and test datasets\n",
        "register_coco_instances(\"train\", {}, traindir + 'coco.json', traindir + 'images/')\n",
        "\n",
        "# Generate metadata\n",
        "train_metadata = MetadataCatalog.get(\"train\")\n",
        "\n",
        "# Get train and test dataset catalogs\n",
        "train_dicts = DatasetCatalog.get(\"train\")"
      ],
      "execution_count": null,
      "outputs": []
    },
    {
      "cell_type": "markdown",
      "metadata": {
        "id": "9yz-SVFxjzc8"
      },
      "source": [
        "## Display Training Annotations"
      ]
    },
    {
      "cell_type": "code",
      "metadata": {
        "id": "hcB40MBbj3dN"
      },
      "source": [
        "# Display a random training image with annotations\n",
        "d = random.sample(train_dicts, 1)\n",
        "d = d[0]\n",
        "img = cv2.imread(d[\"file_name\"])\n",
        "visualizer = Visualizer(img[:, :, ::-1], metadata=train_metadata, scale=1.0)\n",
        "vis = visualizer.draw_dataset_dict(d)\n",
        "print(\"filename = \" + d['file_name'])\n",
        "cv2_imshow(vis.get_image()[:, :, ::-1])"
      ],
      "execution_count": null,
      "outputs": []
    },
    {
      "cell_type": "markdown",
      "metadata": {
        "id": "nC4yW5E9j9ES"
      },
      "source": [
        "## Setup wandb"
      ]
    },
    {
      "cell_type": "code",
      "metadata": {
        "id": "gT0cDpPyj_UZ"
      },
      "source": [
        "%pip install wandb"
      ],
      "execution_count": null,
      "outputs": []
    },
    {
      "cell_type": "code",
      "metadata": {
        "id": "22JGbT_BkB0q"
      },
      "source": [
        "import wandb\n",
        "wandb.login()\n",
        "wandb.init(project='test4', sync_tensorboard=True)"
      ],
      "execution_count": null,
      "outputs": []
    },
    {
      "cell_type": "markdown",
      "metadata": {
        "id": "ehOaYGaQkKdH"
      },
      "source": [
        "## Train"
      ]
    },
    {
      "cell_type": "code",
      "metadata": {
        "id": "pySnB8BYkLdr"
      },
      "source": [
        "# Train the network\n",
        "cfg = get_cfg()\n",
        "cfg.merge_from_file(\n",
        "    model_zoo.get_config_file(\"COCO-InstanceSegmentation/mask_rcnn_R_50_FPN_3x.yaml\")\n",
        ")\n",
        "cfg.DATASETS.TRAIN = (\"train\",)\n",
        "cfg.DATASETS.TEST = ()  # no metrics implemented for this dataset\n",
        "cfg.DATALOADER.NUM_WORKERS = 2\n",
        "cfg.MODEL.WEIGHTS = model_zoo.get_checkpoint_url(\"COCO-InstanceSegmentation/mask_rcnn_R_50_FPN_3x.yaml\")  # initialize from model zoo\n",
        "cfg.SOLVER.IMS_PER_BATCH = 2\n",
        "cfg.SOLVER.BASE_LR = 0.02\n",
        "cfg.SOLVER.MAX_ITER = (\n",
        "    300\n",
        ")  # 300 iterations seems good enough, but you can certainly train longer\n",
        "cfg.MODEL.ROI_HEADS.BATCH_SIZE_PER_IMAGE = (\n",
        "    128\n",
        ")  # faster, and good enough for this toy dataset\n",
        "cfg.MODEL.ROI_HEADS.NUM_CLASSES = 5  # 5 classes (tank, support_vehicle, trailer, other_afv, non_afv)\n",
        "\n",
        "os.makedirs(cfg.OUTPUT_DIR, exist_ok=True)\n",
        "trainer = DefaultTrainer(cfg)\n",
        "trainer.resume_or_load(resume=False)\n",
        "trainer.train()"
      ],
      "execution_count": null,
      "outputs": []
    }
  ]
}